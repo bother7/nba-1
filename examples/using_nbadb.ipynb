{
 "cells": [
  {
   "cell_type": "code",
   "execution_count": 16,
   "metadata": {},
   "outputs": [],
   "source": [
    "from datetime import datetime\n",
    "import json\n",
    "import logging\n",
    "import os\n",
    "import sys\n",
    "\n",
    "from configparser import ConfigParser\n",
    "\n",
    "from nba.db.nbapg import NBAPostgres\n",
    "from nba.dates import convert_format"
   ]
  },
  {
   "cell_type": "markdown",
   "metadata": {},
   "source": [
    "## Setting Up the Database Connection"
   ]
  },
  {
   "cell_type": "code",
   "execution_count": 2,
   "metadata": {},
   "outputs": [
    {
     "data": {
      "text/plain": [
       "['/home/sansbacon/.nbadb']"
      ]
     },
     "execution_count": 2,
     "metadata": {},
     "output_type": "execute_result"
    }
   ],
   "source": [
    "logging.basicConfig(stream=sys.stdout, level=logging.INFO)\n",
    "config = ConfigParser()\n",
    "configfn = os.path.join(os.path.expanduser('~'), '.pgcred')\n",
    "config.read(configfn)"
   ]
  },
  {
   "cell_type": "code",
   "execution_count": 3,
   "metadata": {},
   "outputs": [],
   "source": [
    "nbapg = NBAPostgres(username=config['nbadb']['username'],\n",
    "                password=config['nbadb']['password'],\n",
    "                database=config['nbadb']['database'])"
   ]
  },
  {
   "cell_type": "markdown",
   "metadata": {},
   "source": [
    "## Rotogrinders"
   ]
  },
  {
   "cell_type": "code",
   "execution_count": 4,
   "metadata": {},
   "outputs": [],
   "source": [
    "game_date = '20170321'\n",
    "q = \"\"\"SELECT data FROM rotogrinders WHERE game_date = '{}'\"\"\""
   ]
  },
  {
   "cell_type": "code",
   "execution_count": 23,
   "metadata": {},
   "outputs": [],
   "source": [
    "# data column is stored as jsonb; psycopg2 will convert it back to dict\n",
    "data = nbapg.select_scalar(q.format(convert_format(game_date, 'nba')))"
   ]
  },
  {
   "cell_type": "markdown",
   "metadata": {},
   "source": [
    "The dictionary has a series of keys which look like gameids. Each gameid has a data key which has what we want.\n",
    "\n",
    "    {\n",
    "    37302\n",
    "        data\n",
    "            away_id : \"130\"\n",
    "            name : null\n",
    "            team_home\n",
    "                data\n",
    "                    city : \"Toronto\"\n",
    "                    direction : \"N\"\n",
    "                    lineups\n",
    "                        paging\n",
    "                        collection\n",
    "                    name : \"Toronto Raptors\"\n",
    "                    time_zone : null\n",
    "                    stadium : \"Air Canada Centre\"\n",
    "                    hashtag : \"TOR\"\n",
    "                    zip_code : null\n",
    "                    id : 129\n",
    "                    sport_id : \"3\"\n",
    "                    mascot : \"Raptors\"\n",
    "            home_locked : \"0\"\n",
    "            url : null\n",
    "            home_notes : null\n",
    "            updated_at : \"2017-03-21 11:25:03\"\n",
    "            forecast : null\n",
    "            home_id : \"129\"\n",
    "            team_away\n",
    "                same structure as team_home\n",
    "            vegas\n",
    "                timestamp\n",
    "                    spread\n",
    "                        spread_visiting : \"6.5\"\n",
    "                        spread_adjust_visiting : \"-110\"\n",
    "                        spread_home : \"-6.5\"\n",
    "                        spread_adjust_home : \"-110\"\n",
    "                    total\n",
    "                        total_points : \"201.5\"\n",
    "                        under_adjust : \"-110\"\n",
    "                        over_adjust : \"-110\"\n",
    "                    moneyline\n",
    "                        moneyline_visiting : \"240\"\n",
    "                        moneyline_home : \"-285\"\n",
    "                    team_total\n",
    "                        delta_visiting : 0.25\n",
    "                        team_total_home : 104\n",
    "                        delta_home : -0.25\n",
    "                        team_total_visiting : 97.5\n",
    "                timestamp\n",
    "                    same structure\n",
    "            home_score : \"0\"\n",
    "            weather : null\n",
    "            away_notes : null\n",
    "            time : \"7:00 PM ET\"\n",
    "            date : \"2017-03-21 23:00:00\"\n",
    "            away_score : \"0\"\n",
    "            id : 37302\n",
    "            sport_id : \"3\"\n",
    "            away_locked : \"0\"\n",
    "    }"
   ]
  },
  {
   "cell_type": "markdown",
   "metadata": {},
   "source": [
    "Now we can loop through each gameid to get the spreads and totals"
   ]
  },
  {
   "cell_type": "code",
   "execution_count": 35,
   "metadata": {},
   "outputs": [
    {
     "name": "stdout",
     "output_type": "stream",
     "text": [
      "(u'37304', '2017-03-21 11:25:04', u'132', u'DET', -5.0, u'126', u'BKN', 5.0)\n",
      "(u'37305', '2017-03-21 11:25:04', u'142', u'MEM', 2.5, u'143', u'NOP', -2.5)\n",
      "(u'37306', '2017-03-21 11:25:04', u'150', u'GSW', -4.0, u'140', u'DAL', 4.0)\n",
      "(u'37307', '2017-03-21 11:25:04', u'144', u'SAS', -5.0, u'146', u'MIN', 5.0)\n",
      "(u'37302', '2017-03-21 11:25:02', u'130', u'CHI', 6.5, u'129', u'TOR', -6.5)\n",
      "(u'37309', '2017-03-21 11:25:04', u'151', u'LAC', -8.0, u'152', u'LAL', 8.0)\n"
     ]
    }
   ],
   "source": [
    "for gid, gdata in data.items():\n",
    "    hid = gdata['data']['home_id']\n",
    "    vid = gdata['data']['away_id']\n",
    "    hcode = gdata['data']['team_home']['data']['hashtag']\n",
    "    vcode = gdata['data']['team_away']['data']['hashtag']\n",
    "    vegas = gdata['data']['vegas']\n",
    "    \n",
    "    # they have odds with various timestamps during the day\n",
    "    if vegas:\n",
    "        stamps = [datetime.strptime(k, '%Y-%m-%d %H:%M:%S') for k in vegas]\n",
    "        if stamps:\n",
    "            fmt = '%Y-%m-%d %H:%M:%S'\n",
    "            maxts = datetime.strftime(max(stamps), fmt)\n",
    "            newest = vegas[maxts]\n",
    "            print (gid, maxts, vid, vcode, float(newest['spread']['spread_visiting']),\n",
    "                   hid, hcode, float(newest['spread']['spread_home']))"
   ]
  },
  {
   "cell_type": "code",
   "execution_count": 37,
   "metadata": {},
   "outputs": [],
   "source": [
    "results = []\n",
    "for gid, gdata in data.items():\n",
    "    hid = gdata['data']['home_id']\n",
    "    vid = gdata['data']['away_id']\n",
    "    hcode = gdata['data']['team_home']['data']['hashtag']\n",
    "    vcode = gdata['data']['team_away']['data']['hashtag']\n",
    "    vegas = gdata['data']['vegas']\n",
    "\n",
    "    # they have odds with various timestamps during the day\n",
    "    if vegas:\n",
    "        stamps = [datetime.strptime(k, '%Y-%m-%d %H:%M:%S') for k in vegas]\n",
    "        if stamps:\n",
    "            fmt = '%Y-%m-%d %H:%M:%S'\n",
    "            maxts = datetime.strftime(max(stamps), fmt)\n",
    "            newest = vegas[maxts]\n",
    "            results.append({'game_id': gid,\n",
    "                'ts': maxts,\n",
    "                'visitor_team_id': vid,\n",
    "                'visitor_team_code': vcode.upper(),\n",
    "                'visitor_team_spread': float(newest['spread']['spread_visiting']),\n",
    "                'home_team_id': hid,\n",
    "                'home_team_code': hcode.upper(),\n",
    "                'home_team_spread': float(newest['spread']['spread_home']),\n",
    "                'game_ou': float(newest['total']['total_points']),\n",
    "                'delta_visiting': float(newest['team_total']['delta_visiting']),\n",
    "                'delta_home': float(newest['team_total']['delta_home']),\n",
    "                'team_total_home': float(newest['team_total']['team_total_home']),\n",
    "                'team_total_visiting': float(newest['team_total']['team_total_visiting']) \n",
    "            })"
   ]
  },
  {
   "cell_type": "code",
   "execution_count": null,
   "metadata": {},
   "outputs": [],
   "source": [
    ""
   ]
  }
 ],
 "metadata": {
  "name": "",
  "signature": "sha256:97ec7dc958d598ee74215e650d318132825e3d0e3a9f2fc36c374ecd56478f7e"
 },
 "nbformat": 4,
 "nbformat_minor": 0
}